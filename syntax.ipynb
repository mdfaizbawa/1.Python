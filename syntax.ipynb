{
 "cells": [
  {
   "cell_type": "code",
   "execution_count": null,
   "id": "4bcbf7bb-47e9-4afc-be81-c8e52f62614a",
   "metadata": {},
   "outputs": [],
   "source": [
    "#syntax erro\n",
    "#missing quotes"
   ]
  },
  {
   "cell_type": "code",
   "execution_count": 1,
   "id": "16c84b9a-016f-409f-937e-5dc4acffd216",
   "metadata": {},
   "outputs": [
    {
     "ename": "SyntaxError",
     "evalue": "invalid syntax. Perhaps you forgot a comma? (2497053111.py, line 1)",
     "output_type": "error",
     "traceback": [
      "\u001b[1;36m  Cell \u001b[1;32mIn[1], line 1\u001b[1;36m\u001b[0m\n\u001b[1;33m    print(hello world)\u001b[0m\n\u001b[1;37m          ^\u001b[0m\n\u001b[1;31mSyntaxError\u001b[0m\u001b[1;31m:\u001b[0m invalid syntax. Perhaps you forgot a comma?\n"
     ]
    }
   ],
   "source": [
    "print(hello world)"
   ]
  },
  {
   "cell_type": "code",
   "execution_count": 2,
   "id": "cd11db70-e677-4f7e-b486-75d8da6de337",
   "metadata": {},
   "outputs": [
    {
     "name": "stdout",
     "output_type": "stream",
     "text": [
      "hello world\n"
     ]
    }
   ],
   "source": [
    "print(\"hello world\")"
   ]
  },
  {
   "cell_type": "code",
   "execution_count": 3,
   "id": "80b2a9c3-2fa5-4f49-abee-f26f2f786f6e",
   "metadata": {},
   "outputs": [
    {
     "ename": "SyntaxError",
     "evalue": "expected ':' (1258028675.py, line 2)",
     "output_type": "error",
     "traceback": [
      "\u001b[1;36m  Cell \u001b[1;32mIn[3], line 2\u001b[1;36m\u001b[0m\n\u001b[1;33m    if (a == 15)\u001b[0m\n\u001b[1;37m                ^\u001b[0m\n\u001b[1;31mSyntaxError\u001b[0m\u001b[1;31m:\u001b[0m expected ':'\n"
     ]
    }
   ],
   "source": [
    "a = 15\n",
    "if (a == 15)\n",
    "    print(a)"
   ]
  },
  {
   "cell_type": "code",
   "execution_count": 46,
   "id": "3e63c586-e68b-4d60-bfab-9ee205383c73",
   "metadata": {},
   "outputs": [
    {
     "name": "stdout",
     "output_type": "stream",
     "text": [
      "15\n"
     ]
    }
   ],
   "source": [
    "a = 15\n",
    "if a == 15:\n",
    "    print(a)"
   ]
  },
  {
   "cell_type": "code",
   "execution_count": 10,
   "id": "b580eab3-256d-4eb5-ba5f-b8f70a770401",
   "metadata": {
    "scrolled": true
   },
   "outputs": [
    {
     "ename": "SyntaxError",
     "evalue": "invalid syntax. Perhaps you forgot a comma? (4144164594.py, line 3)",
     "output_type": "error",
     "traceback": [
      "\u001b[1;36m  Cell \u001b[1;32mIn[10], line 3\u001b[1;36m\u001b[0m\n\u001b[1;33m    'Ram': 32\u001b[0m\n\u001b[1;37m           ^\u001b[0m\n\u001b[1;31mSyntaxError\u001b[0m\u001b[1;31m:\u001b[0m invalid syntax. Perhaps you forgot a comma?\n"
     ]
    }
   ],
   "source": [
    "ages ={\n",
    "    'Sita': 28,\n",
    "    'Ram': 32\n",
    "    'Sam': 45\n",
    "}\n",
    "print(f'The age of Bob is {ages[\"Ram\"]} years.'"
   ]
  },
  {
   "cell_type": "code",
   "execution_count": 1,
   "id": "408cb6ed-0f2c-4813-b333-56f244e431fb",
   "metadata": {},
   "outputs": [
    {
     "name": "stdout",
     "output_type": "stream",
     "text": [
      "The age of Bob is 32 years.\n"
     ]
    }
   ],
   "source": [
    "ages ={\n",
    "    'Sita': 28,\n",
    "    'Ram': 32,\n",
    "    'Sam': 45\n",
    "}\n",
    "print(f'The age of Bob is {ages[\"Ram\"]} years.')"
   ]
  },
  {
   "cell_type": "code",
   "execution_count": 2,
   "id": "27bdc573-74e1-4859-ae98-83a3500ff4af",
   "metadata": {},
   "outputs": [
    {
     "ename": "SyntaxError",
     "evalue": "expected ':' (4051748618.py, line 1)",
     "output_type": "error",
     "traceback": [
      "\u001b[1;36m  Cell \u001b[1;32mIn[2], line 1\u001b[1;36m\u001b[0m\n\u001b[1;33m    def get_shop()\u001b[0m\n\u001b[1;37m                  ^\u001b[0m\n\u001b[1;31mSyntaxError\u001b[0m\u001b[1;31m:\u001b[0m expected ':'\n"
     ]
    }
   ],
   "source": [
    "def get_shop()\n",
    "    return [\n",
    "        \"Shop 1\",\n",
    "        \"Shop 2\",\n",
    "        \"Shop 3\"\n",
    "    ]\n",
    "# Example of calling the function\n",
    "result = get_shop()\n",
    "print(result)"
   ]
  },
  {
   "cell_type": "code",
   "execution_count": 3,
   "id": "b3b826ba-3758-471e-80e6-93a49d1b6e98",
   "metadata": {},
   "outputs": [
    {
     "name": "stdout",
     "output_type": "stream",
     "text": [
      "['Shop 1', 'Shop 2', 'Shop 3']\n"
     ]
    }
   ],
   "source": [
    "def get_shop():\n",
    "    return [\n",
    "        \"Shop 1\",\n",
    "        \"Shop 2\",\n",
    "        \"Shop 3\"\n",
    "    ]\n",
    "# Example of calling the function\n",
    "result = get_shop()\n",
    "print(result)"
   ]
  },
  {
   "cell_type": "code",
   "execution_count": 8,
   "id": "3a18e6c6-189b-4635-bf54-bb9b42741221",
   "metadata": {},
   "outputs": [
    {
     "ename": "SyntaxError",
     "evalue": "'(' was never closed (3871604073.py, line 1)",
     "output_type": "error",
     "traceback": [
      "\u001b[1;36m  Cell \u001b[1;32mIn[8], line 1\u001b[1;36m\u001b[0m\n\u001b[1;33m    numbers = (\u001b[0m\n\u001b[1;37m              ^\u001b[0m\n\u001b[1;31mSyntaxError\u001b[0m\u001b[1;31m:\u001b[0m '(' was never closed\n"
     ]
    }
   ],
   "source": [
    "numbers = (\n",
    "    1,\n",
    "    2,\n",
    "    3\n",
    "for num in numbers:\n",
    "    print(num)"
   ]
  },
  {
   "cell_type": "code",
   "execution_count": 9,
   "id": "65ddb3fc-48f6-48dc-acc6-5d538d9d2189",
   "metadata": {},
   "outputs": [
    {
     "name": "stdout",
     "output_type": "stream",
     "text": [
      "1\n",
      "2\n",
      "3\n"
     ]
    }
   ],
   "source": [
    "numbers = (\n",
    "    1,\n",
    "    2,\n",
    "    3\n",
    ")\n",
    "\n",
    "# Example of using the tuple\n",
    "for num in numbers:\n",
    "    print(num)"
   ]
  },
  {
   "cell_type": "code",
   "execution_count": 15,
   "id": "f6c060dc-851e-46c7-a3ac-bb3df3e8d105",
   "metadata": {},
   "outputs": [
    {
     "ename": "SyntaxError",
     "evalue": "expected ':' (768942038.py, line 3)",
     "output_type": "error",
     "traceback": [
      "\u001b[1;36m  Cell \u001b[1;32mIn[15], line 3\u001b[1;36m\u001b[0m\n\u001b[1;33m    if name == \"Admin\"\u001b[0m\n\u001b[1;37m                      ^\u001b[0m\n\u001b[1;31mSyntaxError\u001b[0m\u001b[1;31m:\u001b[0m expected ':'\n"
     ]
    }
   ],
   "source": [
    "name = \"Admin\"\n",
    "if name == \"Admin\"\n",
    "    print(\"Admin will give access.\")\n",
    "else:\n",
    "    print(\"Admin will not give access.\")"
   ]
  },
  {
   "cell_type": "code",
   "execution_count": 16,
   "id": "f20fa0bf-8ec7-4c6b-876b-b688c01c2a08",
   "metadata": {},
   "outputs": [
    {
     "name": "stdout",
     "output_type": "stream",
     "text": [
      "Admin will give access.\n"
     ]
    }
   ],
   "source": [
    "# Corrected code\n",
    "name = \"Admin\"\n",
    "\n",
    "if name == \"Admin\":\n",
    "    print(\"Admin will give access.\")\n",
    "else:\n",
    "    print(\"Admin will not give access.\")\n"
   ]
  },
  {
   "cell_type": "code",
   "execution_count": 17,
   "id": "3fa7ddd8-58c7-44f5-b956-585d4639b292",
   "metadata": {},
   "outputs": [
    {
     "ename": "SyntaxError",
     "evalue": "invalid syntax. Maybe you meant '==' or ':=' instead of '='? (412189486.py, line 3)",
     "output_type": "error",
     "traceback": [
      "\u001b[1;36m  Cell \u001b[1;32mIn[17], line 3\u001b[1;36m\u001b[0m\n\u001b[1;33m    if name = \"Admin\":\u001b[0m\n\u001b[1;37m       ^\u001b[0m\n\u001b[1;31mSyntaxError\u001b[0m\u001b[1;31m:\u001b[0m invalid syntax. Maybe you meant '==' or ':=' instead of '='?\n"
     ]
    }
   ],
   "source": [
    "name = \"Admin\"\n",
    "\n",
    "if name = \"Admin\":\n",
    "    print(\"Admin will give access.\")\n",
    "else:\n",
    "    print(\"Admin will not give access.\")"
   ]
  },
  {
   "cell_type": "code",
   "execution_count": 18,
   "id": "2172f854-29fe-4d51-8e3f-7b5bf05b3a6b",
   "metadata": {},
   "outputs": [
    {
     "name": "stdout",
     "output_type": "stream",
     "text": [
      "Admin will give access.\n"
     ]
    }
   ],
   "source": [
    "# Corrected code\n",
    "name = \"Admin\"\n",
    "\n",
    "if name == \"Admin\":\n",
    "    print(\"Admin will give access.\")\n",
    "else:\n",
    "    print(\"Admin will not give access.\")\n"
   ]
  },
  {
   "cell_type": "code",
   "execution_count": 19,
   "id": "52680766-b889-4ddd-97cd-a767f251be95",
   "metadata": {},
   "outputs": [
    {
     "ename": "SyntaxError",
     "evalue": "invalid syntax (1742326814.py, line 5)",
     "output_type": "error",
     "traceback": [
      "\u001b[1;36m  Cell \u001b[1;32mIn[19], line 5\u001b[1;36m\u001b[0m\n\u001b[1;33m    iif user_role == \"Admin\":\u001b[0m\n\u001b[1;37m        ^\u001b[0m\n\u001b[1;31mSyntaxError\u001b[0m\u001b[1;31m:\u001b[0m invalid syntax\n"
     ]
    }
   ],
   "source": [
    "#Intentional syntax error: Misspelled 'if' and 'else' keywords\n",
    "user_role = \"Admin\"\n",
    "\n",
    "# Misspelled 'if' as 'iif'\n",
    "iif user_role == \"Admin\":\n",
    "    print(\"Access granted. You are an administrator.\")\n",
    "elsse:\n",
    "    print(\"Access denied. You are not an administrator.\")"
   ]
  },
  {
   "cell_type": "code",
   "execution_count": 20,
   "id": "0dc9d760-c5f0-4b75-8441-678e423977e5",
   "metadata": {},
   "outputs": [
    {
     "name": "stdout",
     "output_type": "stream",
     "text": [
      "Access granted. You are an administrator.\n"
     ]
    }
   ],
   "source": [
    "# Corrected code\n",
    "user_role = \"Admin\"\n",
    "\n",
    "# Using correct 'if' and 'else' keywords\n",
    "if user_role == \"Admin\":\n",
    "    print(\"Access granted. You are an administrator.\")\n",
    "else:\n",
    "    print(\"Access denied. You are not an administrator.\")\n"
   ]
  },
  {
   "cell_type": "code",
   "execution_count": 21,
   "id": "e2f6a8cb-5583-4535-adca-8789fca6e786",
   "metadata": {},
   "outputs": [
    {
     "name": "stdout",
     "output_type": "stream",
     "text": [
      "Access granted. You are an administrator.\n"
     ]
    }
   ],
   "source": [
    "# Corrected code\n",
    "user_role = \"Admin\"\n",
    "\n",
    "# Using correct 'if' and 'else' keywords\n",
    "if user_role == \"Admin\":\n",
    "    print(\"Access granted. You are an administrator.\")\n",
    "else:\n",
    "    print(\"Access denied. You are not an administrator.\")\n"
   ]
  },
  {
   "cell_type": "code",
   "execution_count": 22,
   "id": "47bf9d93-999d-4a10-9c98-0d7ea41e8e74",
   "metadata": {},
   "outputs": [
    {
     "name": "stdout",
     "output_type": "stream",
     "text": [
      "Access granted. You are an administrator.\n"
     ]
    }
   ],
   "source": [
    "# Corrected code\n",
    "user_role = \"Admin\"\n",
    "\n",
    "# Using correct 'if' and 'else' keywords\n",
    "if user_role == \"Admin\":\n",
    "    print(\"Access granted. You are an administrator.\")\n",
    "else:\n",
    "    print(\"Access denied. You are not an administrator.\")\n",
    "    # Additional code within the 'else' block\n",
    "    print(\"This line is reachable within the 'else' block.\")\n"
   ]
  },
  {
   "cell_type": "code",
   "execution_count": 28,
   "id": "5907c348-5074-437e-a7a5-5ef45cc6e592",
   "metadata": {},
   "outputs": [
    {
     "ename": "SyntaxError",
     "evalue": "'[' was never closed (456331463.py, line 5)",
     "output_type": "error",
     "traceback": [
      "\u001b[1;36m  Cell \u001b[1;32mIn[28], line 5\u001b[1;36m\u001b[0m\n\u001b[1;33m    squares = [n**2 for n in numbers\u001b[0m\n\u001b[1;37m              ^\u001b[0m\n\u001b[1;31mSyntaxError\u001b[0m\u001b[1;31m:\u001b[0m '[' was never closed\n"
     ]
    }
   ],
   "source": [
    "# Generating squares for numbers 1 to 5\n",
    "numbers = [1, 2, 3, 4, 5]\n",
    "\n",
    "# List comprehension to calculate squares\n",
    "squares = [n**2 for n in numbers\n",
    "\n",
    "# Printing the result\n",
    "print(squares)\n"
   ]
  },
  {
   "cell_type": "code",
   "execution_count": 29,
   "id": "1801b36b-0016-48cc-bcfe-6b382052e1c7",
   "metadata": {},
   "outputs": [
    {
     "name": "stdout",
     "output_type": "stream",
     "text": [
      "[1, 4, 9, 16, 25]\n"
     ]
    }
   ],
   "source": [
    "# Generating squares for numbers 1 to 5\n",
    "numbers = [1, 2, 3, 4, 5]\n",
    "\n",
    "# List comprehension to calculate squares\n",
    "squares = [n**2 for n in numbers]\n",
    "\n",
    "# Printing the result\n",
    "print(squares)\n"
   ]
  },
  {
   "cell_type": "code",
   "execution_count": 32,
   "id": "95258594-9a0f-4809-87ff-90ddb4723732",
   "metadata": {},
   "outputs": [
    {
     "name": "stdout",
     "output_type": "stream",
     "text": [
      "Hello, Alice!\n"
     ]
    }
   ],
   "source": [
    "def greet(name):\n",
    "      print(f\"Hello, {name}!\")\n",
    "\n",
    "# Attempting to call the function\n",
    "greet(\"Alice\")"
   ]
  },
  {
   "cell_type": "code",
   "execution_count": 35,
   "id": "82582c98-c4d7-496b-939a-038100f0039c",
   "metadata": {},
   "outputs": [
    {
     "ename": "SyntaxError",
     "evalue": "'break' outside loop (1693631405.py, line 7)",
     "output_type": "error",
     "traceback": [
      "\u001b[1;36m  Cell \u001b[1;32mIn[35], line 7\u001b[1;36m\u001b[0m\n\u001b[1;33m    break  # Intentional syntax error\u001b[0m\n\u001b[1;37m    ^\u001b[0m\n\u001b[1;31mSyntaxError\u001b[0m\u001b[1;31m:\u001b[0m 'break' outside loop\n"
     ]
    }
   ],
   "source": [
    "# Intentional syntax errors: Using 'break' and 'continue' outside of loops\n",
    "persons = ['alice', 'bob', 'charlie']\n",
    "\n",
    "# Using 'break' outside of a loop\n",
    "if 'bob' in persons:\n",
    "    print('Bob found')\n",
    "    break  # Intentional syntax error\n",
    "\n",
    "# Using 'continue' outside of a loop\n",
    "if 'bob' in persons:\n",
    "    print('Bob found')\n",
    "    continue  # Intentional syntax error\n"
   ]
  },
  {
   "cell_type": "code",
   "execution_count": 41,
   "id": "cf68736e-e8a4-46c0-95b6-586f885fe8f0",
   "metadata": {},
   "outputs": [
    {
     "name": "stdout",
     "output_type": "stream",
     "text": [
      "Bob found\n",
      "Processing alice\n",
      "Bob found\n",
      "Processing charlie\n"
     ]
    }
   ],
   "source": [
    "# Corrected code: Using 'break' and 'continue' within loops\n",
    "persons = ['alice', 'bob', 'charlie']\n",
    "\n",
    "# Using 'break' within a loop\n",
    "for person in persons:\n",
    "    if person == 'bob':\n",
    "        print('Bob found')\n",
    "        break  # Exiting the loop when 'bob' is found\n",
    "\n",
    "# Using 'continue' within a loop\n",
    "for person in persons:\n",
    "    if person == 'bob':\n",
    "        print('Bob found')\n",
    "        continue  # Skipping to the next iteration when 'bob' is found\n",
    "    print(f'Processing {person}')\n"
   ]
  },
  {
   "cell_type": "code",
   "execution_count": 38,
   "id": "76145659-f52d-455e-af91-53183ef97fe4",
   "metadata": {},
   "outputs": [
    {
     "ename": "SyntaxError",
     "evalue": "unterminated string literal (detected at line 2) (2814686206.py, line 2)",
     "output_type": "error",
     "traceback": [
      "\u001b[1;36m  Cell \u001b[1;32mIn[38], line 2\u001b[1;36m\u001b[0m\n\u001b[1;33m    ages = {'pam;=24}\u001b[0m\n\u001b[1;37m            ^\u001b[0m\n\u001b[1;31mSyntaxError\u001b[0m\u001b[1;31m:\u001b[0m unterminated string literal (detected at line 2)\n"
     ]
    }
   ],
   "source": [
    "\n",
    "ages = {'pam'; 24}\n",
    "\n",
    "print(ages['pam'])\n",
    "\n",
    "                 \n"
   ]
  },
  {
   "cell_type": "code",
   "execution_count": 42,
   "id": "ae664306-bb6a-46dd-8d65-1a1a46eb57e5",
   "metadata": {},
   "outputs": [
    {
     "name": "stdout",
     "output_type": "stream",
     "text": [
      "24\n"
     ]
    }
   ],
   "source": [
    "# Corrected code\n",
    "ages = {'pam': 24}\n",
    "\n",
    "# Output\n",
    "print(ages['pam'])\n"
   ]
  },
  {
   "cell_type": "code",
   "execution_count": 45,
   "id": "1609d6a1-5f2b-4488-9d61-bcc348c97a4b",
   "metadata": {},
   "outputs": [
    {
     "ename": "IndentationError",
     "evalue": "unindent does not match any outer indentation level (<tokenize>, line 7)",
     "output_type": "error",
     "traceback": [
      "\u001b[1;36m  File \u001b[1;32m<tokenize>:7\u001b[1;36m\u001b[0m\n\u001b[1;33m    print('Done counting and summing')  # Intentional indentation error\u001b[0m\n\u001b[1;37m    ^\u001b[0m\n\u001b[1;31mIndentationError\u001b[0m\u001b[1;31m:\u001b[0m unindent does not match any outer indentation level\n"
     ]
    }
   ],
   "source": [
    "def count_and_sum():\n",
    "  total_sum = 0\n",
    "  for i in range(5):\n",
    "      total_sum += i\n",
    "      print(f\"Current number: {i}, Running sum: {total_sum}\")\n",
    "\n",
    "    print('Done counting and summing')  # Intentional indentation error\n",
    "\n",
    "count_and_sum()\n"
   ]
  },
  {
   "cell_type": "code",
   "execution_count": 43,
   "id": "6aeaedf9-8c79-46b6-a3c7-75fe152cc58f",
   "metadata": {},
   "outputs": [
    {
     "name": "stdout",
     "output_type": "stream",
     "text": [
      "Current number: 0, Running sum: 0\n",
      "Current number: 1, Running sum: 1\n",
      "Current number: 2, Running sum: 3\n",
      "Current number: 3, Running sum: 6\n",
      "Current number: 4, Running sum: 10\n",
      "Done counting and summing\n"
     ]
    }
   ],
   "source": [
    "def count_and_sum():\n",
    "  total_sum = 0\n",
    "  for i in range(5):\n",
    "    total_sum += i\n",
    "    print(f\"Current number: {i}, Running sum: {total_sum}\")\n",
    "\n",
    "  print('Done counting and summing')\n",
    "\n",
    "count_and_sum()\n"
   ]
  },
  {
   "cell_type": "code",
   "execution_count": 1,
   "id": "11d3f13a-b986-4dc9-af52-70682f30f4ae",
   "metadata": {},
   "outputs": [
    {
     "ename": "SyntaxError",
     "evalue": "unterminated string literal (detected at line 7) (2784473474.py, line 7)",
     "output_type": "error",
     "traceback": [
      "\u001b[1;36m  Cell \u001b[1;32mIn[1], line 7\u001b[1;36m\u001b[0m\n\u001b[1;33m    sub = subjects.get('Hindi','Student doesn't exist')\u001b[0m\n\u001b[1;37m                                                     ^\u001b[0m\n\u001b[1;31mSyntaxError\u001b[0m\u001b[1;31m:\u001b[0m unterminated string literal (detected at line 7)\n"
     ]
    }
   ],
   "source": [
    "subjects = {'Keera': 'Maths', \n",
    "            'karthik': 'Biology', \n",
    "            'naveen': 'Science', \n",
    "            'Vijay': 'Hindi'} \n",
    "# Storing the subject of student \n",
    "# that doesn't exist \n",
    "sub = subjects.get('Hindi','Student doesn't exist') \n",
    "\n",
    "print(sub) "
   ]
  },
  {
   "cell_type": "code",
   "execution_count": 2,
   "id": "b04c3db0-b717-4bc3-9e73-b0038a7c0dff",
   "metadata": {},
   "outputs": [
    {
     "name": "stdout",
     "output_type": "stream",
     "text": [
      "Hindi\n"
     ]
    }
   ],
   "source": [
    "subjects = {'Keera': 'Maths', \n",
    "            'karthik': 'Biology', \n",
    "            'naveen': 'Science', \n",
    "            'Vijay': 'Hindi'} \n",
    "# Storing the subject of student \n",
    "# that doesn't exist \n",
    "sub = subjects.get('Vijay',\"Student doesn't exist\") \n",
    "\n",
    "print(sub) "
   ]
  },
  {
   "cell_type": "code",
   "execution_count": null,
   "id": "fcea66c0-8e2b-4da7-9960-070131cc8170",
   "metadata": {},
   "outputs": [],
   "source": []
  }
 ],
 "metadata": {
  "kernelspec": {
   "display_name": "Python 3 (ipykernel)",
   "language": "python",
   "name": "python3"
  },
  "language_info": {
   "codemirror_mode": {
    "name": "ipython",
    "version": 3
   },
   "file_extension": ".py",
   "mimetype": "text/x-python",
   "name": "python",
   "nbconvert_exporter": "python",
   "pygments_lexer": "ipython3",
   "version": "3.11.0"
  }
 },
 "nbformat": 4,
 "nbformat_minor": 5
}
