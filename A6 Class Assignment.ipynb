{
 "cells": [
  {
   "cell_type": "code",
   "execution_count": 1,
   "id": "ff53e7d6-2ab4-499f-8d1d-3ea458e36110",
   "metadata": {},
   "outputs": [],
   "source": [
    "# Create a class and function, and list out the items in the list"
   ]
  },
  {
   "cell_type": "code",
   "execution_count": 2,
   "id": "1e81f5b5-51f6-402a-a57d-acec734d9be4",
   "metadata": {},
   "outputs": [],
   "source": [
    "field=[\"Sub-fields in AI are:\",\"Machine Learning\",\"Neural Networks\",\"Vision\",\"Robotics\",\"Speech Processing\",\"Natural Language Processing\"]\n",
    "class SubfieldsInAI():\n",
    "    def Subfields():\n",
    "      for sub in field:\n",
    "        print(sub)\n"
   ]
  },
  {
   "cell_type": "code",
   "execution_count": 3,
   "id": "78b434be-0641-4c6b-99d0-bc9d4601b783",
   "metadata": {},
   "outputs": [
    {
     "name": "stdout",
     "output_type": "stream",
     "text": [
      "Sub-fields in AI are:\n",
      "Machine Learning\n",
      "Neural Networks\n",
      "Vision\n",
      "Robotics\n",
      "Speech Processing\n",
      "Natural Language Processing\n"
     ]
    }
   ],
   "source": [
    "SubfieldsInAI.Subfields()"
   ]
  },
  {
   "cell_type": "code",
   "execution_count": 4,
   "id": "a0491142-b0a7-41a4-a1aa-5cf9c58bcabf",
   "metadata": {},
   "outputs": [],
   "source": [
    "# Create a function that checks whether the given number is Odd or Even"
   ]
  },
  {
   "cell_type": "code",
   "execution_count": 5,
   "id": "5bc2c680-f6b1-4534-932b-fc64843cc82d",
   "metadata": {},
   "outputs": [
    {
     "name": "stdin",
     "output_type": "stream",
     "text": [
      "Enter a number: 52452\n"
     ]
    },
    {
     "name": "stdout",
     "output_type": "stream",
     "text": [
      "52452 is Even number\n"
     ]
    }
   ],
   "source": [
    "num=int(input(\"Enter a number:\"))\n",
    "class OddEven():\n",
    "    def OddEven():\n",
    "      if((num%2)==1):\n",
    "        print(num,\"is odd number\")\n",
    "      else:\n",
    "        print(num,\"is Even number\")\n",
    "      \n",
    "OddEven.OddEven()"
   ]
  },
  {
   "cell_type": "code",
   "execution_count": 6,
   "id": "47ddcd37-c506-4011-b0a1-7ae312392bda",
   "metadata": {},
   "outputs": [],
   "source": [
    "# Create a function that tells elegibility of marriage for male and female according to their age limit like 21 for male and 18 for female"
   ]
  },
  {
   "cell_type": "code",
   "execution_count": 7,
   "id": "027f4bd9-ae7e-4552-bf1e-c89b75ae79af",
   "metadata": {},
   "outputs": [],
   "source": [
    "class EligiblityForMarriage():\n",
    "    def Eligible():\n",
    "      gender=input(\"Your Gender:\")\n",
    "      age=int(input(\"Your Age:\"))\n",
    "      if(gender==\"Male\" and age>21):\n",
    "        print(\"ELIGIBLE\")\n",
    "      elif(gender==\"Female\" and age>18):\n",
    "        print(\"ELIGIBLE\")\n",
    "      else:\n",
    "        print(\"NOT ELIGIBLE\")"
   ]
  },
  {
   "cell_type": "code",
   "execution_count": 8,
   "id": "d6fd2ff1-e547-4457-98f0-fcf1d75eb73b",
   "metadata": {},
   "outputs": [
    {
     "name": "stdin",
     "output_type": "stream",
     "text": [
      "Your Gender: Male\n",
      "Your Age: 20\n"
     ]
    },
    {
     "name": "stdout",
     "output_type": "stream",
     "text": [
      "NOT ELIGIBLE\n"
     ]
    }
   ],
   "source": [
    "EligiblityForMarriage.Eligible()"
   ]
  },
  {
   "cell_type": "code",
   "execution_count": 9,
   "id": "2fc67309-1961-4dd2-bf9e-7465acc17539",
   "metadata": {},
   "outputs": [],
   "source": [
    "# calculate the percentage of your 10th mark"
   ]
  },
  {
   "cell_type": "code",
   "execution_count": 14,
   "id": "44178f9b-2d6e-4daf-ae19-682824e2a114",
   "metadata": {},
   "outputs": [],
   "source": [
    "class FindPercent():\n",
    "    def percentage():\n",
    "      sub1=int(input(\"Subject1=\"))\n",
    "      sub2=int(input(\"Subject2=\"))\n",
    "      sub3=int(input(\"Subject3=\"))\n",
    "      sub4=int(input(\"Subject4=\"))\n",
    "      sub5=int(input(\"Subject5=\"))\n",
    "      total=sub1+sub2+sub3+sub4+sub5\n",
    "      print(\"Total=\",total)\n",
    "      per=float(total)*100/500\n",
    "      print(\"Percentage:\",per)"
   ]
  },
  {
   "cell_type": "code",
   "execution_count": 16,
   "id": "e0ae4367-c9ba-4ce2-b930-64e98230f623",
   "metadata": {},
   "outputs": [
    {
     "name": "stdin",
     "output_type": "stream",
     "text": [
      "Subject1= 98\n",
      "Subject2= 87\n",
      "Subject3= 95\n",
      "Subject4= 95\n",
      "Subject5= 93\n"
     ]
    },
    {
     "name": "stdout",
     "output_type": "stream",
     "text": [
      "Total= 468\n",
      "Percentage: 93.6\n"
     ]
    }
   ],
   "source": [
    "FindPercent.percentage()"
   ]
  },
  {
   "cell_type": "code",
   "execution_count": 18,
   "id": "2cb0f6fa-1a1f-45f7-a5d9-04f16f75f4a5",
   "metadata": {},
   "outputs": [],
   "source": [
    "#print area and perimeter of triangle using class and functions"
   ]
  },
  {
   "cell_type": "code",
   "execution_count": 20,
   "id": "84c6c5fa-d827-45a9-9abe-b709d4bc2ef1",
   "metadata": {},
   "outputs": [],
   "source": [
    "class Triangle():\n",
    "    def triangle():\n",
    "      Height=int(input(\"Height:\"))\n",
    "      Breadth=int(input(\"Breadth:\"))\n",
    "      print(\"Area formula:(Height*Breadth)/2\")\n",
    "      Area=((Height*Breadth)/2)\n",
    "      print(\"Area of Triangle:\",Area)\n",
    "      Height1=int(input(\"Height1:\"))\n",
    "      Height2=int(input(\"Height2:\"))\n",
    "      Breadth1=int(input(\"Breadth:\"))\n",
    "      print(\"Perimeter formula:Height1+Height2+Breadth\")\n",
    "      perimeter=(Height1+Height2+Breadth1)\n",
    "      print(\"Permeter of Triangle:\",perimeter)\n",
    "    "
   ]
  },
  {
   "cell_type": "code",
   "execution_count": 24,
   "id": "d9b72c03-8c6c-41a9-8e6d-5336d5523354",
   "metadata": {},
   "outputs": [
    {
     "name": "stdin",
     "output_type": "stream",
     "text": [
      "Height: 32\n",
      "Breadth: 34\n"
     ]
    },
    {
     "name": "stdout",
     "output_type": "stream",
     "text": [
      "Area formula:(Height*Breadth)/2\n",
      "Area of Triangle: 544.0\n"
     ]
    },
    {
     "name": "stdin",
     "output_type": "stream",
     "text": [
      "Height1: 2\n",
      "Height2: 4\n",
      "Breadth: 4\n"
     ]
    },
    {
     "name": "stdout",
     "output_type": "stream",
     "text": [
      "Perimeter formula:Height1+Height2+Breadth\n",
      "Permeter of Triangle: 10\n"
     ]
    }
   ],
   "source": [
    "Triangle.triangle()"
   ]
  },
  {
   "cell_type": "code",
   "execution_count": null,
   "id": "8eae6639-4a8a-44d9-a3a4-7faaca7020e8",
   "metadata": {},
   "outputs": [],
   "source": []
  }
 ],
 "metadata": {
  "kernelspec": {
   "display_name": "Python 3 (ipykernel)",
   "language": "python",
   "name": "python3"
  },
  "language_info": {
   "codemirror_mode": {
    "name": "ipython",
    "version": 3
   },
   "file_extension": ".py",
   "mimetype": "text/x-python",
   "name": "python",
   "nbconvert_exporter": "python",
   "pygments_lexer": "ipython3",
   "version": "3.12.4"
  }
 },
 "nbformat": 4,
 "nbformat_minor": 5
}
